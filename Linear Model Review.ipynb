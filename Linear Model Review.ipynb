{
 "cells": [
  {
   "cell_type": "markdown",
   "metadata": {},
   "source": [
    "It's been a while since I've done this so I'm brushing up on my linear model skills with this notebook."
   ]
  },
  {
   "cell_type": "code",
   "execution_count": 56,
   "metadata": {
    "collapsed": false
   },
   "outputs": [
    {
     "name": "stdout",
     "output_type": "stream",
     "text": [
      "\n",
      "Result of fitting one dim. polynomial with numpy.polyfit and std=10:\n",
      "\n",
      "    coeff: [  4.2453875  -13.86515031  32.75781573]\n",
      "residuals: [ 1982.91835056]\n",
      "     rank: 3\n",
      " singular: [ 1.67459129  0.43902844  0.05475443]\n",
      "    rcond: 1.7763568394e-15\n",
      "    covar: \n",
      "[[   62.94978891  -346.22383899   393.43618067]\n",
      " [ -346.22383899  1967.18090334 -2337.01091316]\n",
      " [  393.43618067 -2337.01091316  3017.65550572]]\n",
      " \n",
      "Data and Fit:\n"
     ]
    },
    {
     "data": {
      "image/png": "[encoded data removed]",
      "text/plain": [
       "<matplotlib.figure.Figure at 0x7f6f9b228510>"
      ]
     },
     "metadata": {},
     "output_type": "display_data"
    }
   ],
   "source": [
    "%matplotlib inline\n",
    "\n",
    "import numpy as np\n",
    "import matplotlib.pyplot as plt\n",
    "import matplotlib\n",
    "\n",
    "# Define a quadratic function\n",
    "def noisy_quadratic(x,a,std):\n",
    "    # Random normal disallows degenerate case of std = 0.\n",
    "    if std <= 0.:\n",
    "        std = 0.0000001\n",
    "        \n",
    "    y = a[0] + a[1]*x + a[2]*x**2 + np.random.normal(0,std,len(x))\n",
    "    return y\n",
    "\n",
    "# Define an independent variable 'x', coefficients for quadratic 'a'\n",
    "x = np.arange(1.,5.,0.5)\n",
    "a = np.array([5,1,3])\n",
    "\n",
    "# Generate a dependent variable. \n",
    "# Our data set is now {(x,y)}\n",
    "y           = []\n",
    "coeff       = []\n",
    "response_fn = []\n",
    "for ind in range(0,4):\n",
    "    std = ind*5.\n",
    "    y.append(noisy_quadratic(x,a,std))\n",
    "\n",
    "    # Use internal numpy to fit data and recover the coefficient vector 'a'\n",
    "    param, residuals, rank, singular_values, rcond = np.polyfit(x, y[-1], 2, rcond=None, full=True, w=None)\n",
    "    param, covar = np.polyfit(x, y[-1], 2, rcond=None, full=False, w=None, cov=True)\n",
    "    coeff.append(param)\n",
    "    \n",
    "    # Use the recovered quadratic to approximate the real one\n",
    "    response_fn.append(np.poly1d(coeff[ind]))\n",
    "\n",
    "\n",
    "print ''\n",
    "print 'Result of fitting one dim. polynomial with numpy.polyfit and std=10:'\n",
    "print ''\n",
    "print '    coeff: ' + str(coeff[-1])\n",
    "print 'residuals: ' + str(residuals)\n",
    "print '     rank: ' + str(rank)\n",
    "print ' singular: ' + str(singular_values)\n",
    "print '    rcond: ' + str(rcond)\n",
    "print '    covar: '\n",
    "print covar\n",
    "print ' '\n",
    "\n",
    "# Plot the data and the fit.\n",
    "# # x is in (0,10) and y is in (0,270) so we'll set these as lims\n",
    "xp = np.linspace(0, 5, 100)\n",
    "plt.plot(x ,               y[0], '.r',\n",
    "         xp, response_fn[0](xp), '-r',\n",
    "         x ,               y[1],  '.g',\n",
    "         xp, response_fn[1](xp), '--g',\n",
    "         x ,               y[2],  '.b',\n",
    "         xp, response_fn[2](xp), '--b',\n",
    "         x ,               y[3],  '.m',\n",
    "         xp, response_fn[3](xp), '--m')\n",
    "\n",
    "plt.ylim(0,100)\n",
    "\n",
    "print 'Data and Fit:'\n",
    "plt.show()"
   ]
  },
  {
   "cell_type": "code",
   "execution_count": 30,
   "metadata": {
    "collapsed": false
   },
   "outputs": [
    {
     "name": "stdout",
     "output_type": "stream",
     "text": [
      "[array([-1. , -0.6, -0.2,  0.2,  0.6])]\n"
     ]
    }
   ],
   "source": []
  },
  {
   "cell_type": "code",
   "execution_count": null,
   "metadata": {
    "collapsed": true
   },
   "outputs": [],
   "source": []
  },
  {
   "cell_type": "code",
   "execution_count": null,
   "metadata": {
    "collapsed": true
   },
   "outputs": [],
   "source": []
  }
 ],
 "metadata": {
  "kernelspec": {
   "display_name": "Python 2",
   "language": "python",
   "name": "python2"
  },
  "language_info": {
   "codemirror_mode": {
    "name": "ipython",
    "version": 2
   },
   "file_extension": ".py",
   "mimetype": "text/x-python",
   "name": "python",
   "nbconvert_exporter": "python",
   "pygments_lexer": "ipython2",
   "version": "2.7.11"
  }
 },
 "nbformat": 4,
 "nbformat_minor": 0
}
