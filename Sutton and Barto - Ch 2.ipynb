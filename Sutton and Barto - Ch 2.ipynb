{
 "cells": [
  {
   "cell_type": "markdown",
   "metadata": {},
   "source": [
    "### Prob 2.2 ###\n",
    "How does the softmax action selection method using the Gibbs distribution fare on the 10-armed bandit task? Implement the method and run it at several temperatures to produce graphs similar to those in Figure 2.1. To verify your code, first implement the $\\epsilon$-greedy methods and reproduce some specific aspect of the results in Figure 2.1."
   ]
  },
  {
   "cell_type": "code",
   "execution_count": 1,
   "metadata": {
    "collapsed": false,
    "scrolled": true
   },
   "outputs": [
    {
     "name": "stdout",
     "output_type": "stream",
     "text": [
      "Initialized bandit with params:\n",
      "Expected action values: [0, 1  , 2]\n",
      "Standard deviations   : [1, 0.5, 3]\n",
      " \n"
     ]
    },
    {
     "data": {
      "image/png": "[encoded data removed]",
      "text/plain": [
       "<matplotlib.figure.Figure at 0x7f16d43c4160>"
      ]
     },
     "metadata": {},
     "output_type": "display_data"
    }
   ],
   "source": [
    "#-----------------------------------#\n",
    "# Create a slot machine             #\n",
    "#-----------------------------------#\n",
    "\n",
    "# 10-armed bandit specification\n",
    "import numpy as np\n",
    "\n",
    "%matplotlib inline\n",
    "import matplotlib.pyplot as plt\n",
    "import matplotlib\n",
    "\n",
    "class Gaussian_Bandit(object):\n",
    "    \"\"\"gaussian_bandit(n_arms, action_values) returns a callable n-armed gaussian bandit.\n",
    "\n",
    "    Args:\n",
    "        action_values (list): A list of action-value-expectations. \n",
    "\n",
    "    Returns:\n",
    "        object: A gaussian_bandit object with the 'do_action' method.\n",
    "\n",
    "    \"\"\"\n",
    "    def __init__(self, action_means, action_sdevs):\n",
    "        self.action_means = action_means\n",
    "        self.action_sdevs = action_sdevs\n",
    "        self.n_arms       = len(action_means)\n",
    "        \n",
    "    def do_action(self, action_number):\n",
    "        mu    = self.action_means[action_number]\n",
    "        sigma = self.action_sdevs[action_number]\n",
    "        return np.random.normal(mu, sigma)\n",
    "        \n",
    "a_bandit = Gaussian_Bandit([0, 1, 2],[1, 0.5, 3])\n",
    "\n",
    "print('Initialized bandit with params:')\n",
    "print('Expected action values: [0, 1  , 2]')\n",
    "print('Standard deviations   : [1, 0.5, 3]')\n",
    "print(' ')\n",
    "\n",
    "#-----------------------------#\n",
    "# Verify proper functionality #\n",
    "#-----------------------------#\n",
    "results = np.zeros([3,300])\n",
    "for index in range(0,900):\n",
    "    \n",
    "    # Cycle through slots\n",
    "    slot      = index % 3\n",
    "    slot_iter = int(np.floor(index/3))\n",
    "        \n",
    "    results[slot, slot_iter] = a_bandit.do_action(slot)\n",
    "    \n",
    "# Plot results\n",
    "bins = np.linspace(-10,15,50)\n",
    "plt.hist(results[0,:], bins, alpha=0.4, label='0')\n",
    "plt.hist(results[1,:], bins, alpha=0.4, label='0')\n",
    "plt.hist(results[2,:], bins, alpha=0.4, label='0')\n",
    "\n",
    "plt.show()"
   ]
  },
  {
   "cell_type": "code",
   "execution_count": 3,
   "metadata": {
    "collapsed": false
   },
   "outputs": [
    {
     "data": {
      "text/plain": [
       "3"
      ]
     },
     "execution_count": 3,
     "metadata": {},
     "output_type": "execute_result"
    }
   ],
   "source": []
  },
  {
   "cell_type": "code",
   "execution_count": 28,
   "metadata": {
    "collapsed": false
   },
   "outputs": [],
   "source": [
    "class Epsilon_Greedy_Learner(object):\n",
    "    \"\"\"Epsilon_Greedy_Learner returns a callable epsilon greedy learner with sample-average action value learning.\n",
    "    \n",
    "    Args:\n",
    "        epsilon (real): Fraction of the time it chooses non-greedily.\n",
    "        \n",
    "    Returns:\n",
    "        object: The learner.\n",
    "    \n",
    "    \"\"\"\n",
    "    def __init__(self, epsilon, n_actions):\n",
    "        self.epsilon   = epsilon\n",
    "        self.n_actions = n_actions\n",
    "        \n",
    "        # Init action values and action counters to zero\n",
    "        self.learned_action_values  = [0] * n_actions\n",
    "        self.count_of_actions_taken = [0] * n_actions\n",
    "        \n",
    "    def note_action_reward_pair(self, action, reward):\n",
    "        count   = self.count_of_actions_taken[action]\n",
    "        val_est = self.learned_action_values[action]\n",
    "        \n",
    "        new_est = val_est * count / (count + 1) + reward / (count + 1)\n",
    "        \n",
    "        self.learned_action_values[action]  = new_est\n",
    "        self.count_of_actions_taken[action] = count + 1\n",
    "        \n",
    "    def select_action(self):\n",
    "        val_ests    = self.learned_action_values\n",
    "        be_greedy   = np.random.uniform() > self.epsilon\n",
    "        best_action = val_ests.index(max(val_ests))\n",
    "        \n",
    "        if be_greedy:\n",
    "            action_to_take = best_action\n",
    "        else:            \n",
    "            non_greedy_list = list(range(0, best_action)) + list(range(best_action+1, self.n_actions))\n",
    "            action_selector = int( np.floor(np.random.uniform() * (self.n_actions-1)) )\n",
    "            action_to_take  = non_greedy_list[action_selector]\n",
    "            \n",
    "        return action_to_take"
   ]
  },
  {
   "cell_type": "markdown",
   "metadata": {},
   "source": [
    "Now we can create some bandits and learn how to play them optimally."
   ]
  },
  {
   "cell_type": "code",
   "execution_count": 29,
   "metadata": {
    "collapsed": false
   },
   "outputs": [
    {
     "name": "stdout",
     "output_type": "stream",
     "text": [
      "Action: 0, Reward: -0.23, Money:  8.77, Time: 19\n",
      "Action: 1, Reward:  3.39, Money:  11.16, Time: 18\n",
      "Action: 1, Reward:  1.99, Money:  12.15, Time: 17\n",
      "Action: 1, Reward:  3.53, Money:  14.68, Time: 16\n",
      "Action: 1, Reward:  3.18, Money:  16.86, Time: 15\n",
      "Action: 1, Reward:  4.92, Money:  20.78, Time: 14\n",
      "Action: 1, Reward:  3.02, Money:  22.80, Time: 13\n",
      "Action: 1, Reward:  4.29, Money:  26.09, Time: 12\n",
      "Action: 1, Reward:  2.96, Money:  28.06, Time: 11\n",
      "Action: 1, Reward:  3.83, Money:  30.89, Time: 10\n",
      "Action: 1, Reward:  1.52, Money:  31.41, Time: 9\n",
      "Action: 1, Reward:  2.28, Money:  32.70, Time: 8\n",
      "Action: 1, Reward:  1.98, Money:  33.67, Time: 7\n",
      "Action: 1, Reward:  2.05, Money:  34.72, Time: 6\n",
      "Action: 1, Reward:  2.33, Money:  36.05, Time: 5\n",
      "Action: 1, Reward:  1.10, Money:  36.15, Time: 4\n",
      "Action: 1, Reward:  4.08, Money:  39.23, Time: 3\n",
      "Action: 0, Reward:  2.51, Money:  40.74, Time: 2\n",
      "Action: 1, Reward:  1.87, Money:  41.61, Time: 1\n",
      "Action: 1, Reward:  3.26, Money:  43.87, Time: 0\n"
     ]
    }
   ],
   "source": [
    "# Set up some easy bandits and a harder one\n",
    "really_easy_bandit = Gaussian_Bandit([0, 3], [1, 1])\n",
    "pretty_easy_bandit = Gaussian_Bandit([0, 1], [1, 1])\n",
    "\n",
    "easyish_bandit = Gaussian_Bandit([0, 0.75, 1.5], [1, 1])\n",
    "hardish_bandit = Gaussian_Bandit([0, 0.25, 0.5], [1, 1])\n",
    "\n",
    "\n",
    "# Create some greedy learners\n",
    "myopic_monkey = Epsilon_Greedy_Learner(0.05, 2)\n",
    "\n",
    "# Give learners lifelike attributes\n",
    "myopic_monkey.money = 10\n",
    "myopic_monkey.time  = 20\n",
    "\n",
    "\n",
    "# Monkey solvency function\n",
    "def monkey_has_time_and_money(monkey):\n",
    "    return monkey.money > 0 and monkey.time > 0\n",
    "\n",
    "\n",
    "# Let's lern them bandits!\n",
    "while monkey_has_time_and_money(myopic_monkey):\n",
    "    \n",
    "    action = myopic_monkey.select_action()\n",
    "    reward = really_easy_bandit.do_action(action)\n",
    "    \n",
    "    myopic_monkey.time  = myopic_monkey.time  - 1\n",
    "    myopic_monkey.money = myopic_monkey.money - 1 + reward\n",
    "    \n",
    "    myopic_monkey.note_action_reward_pair(action, reward)\n",
    "    \n",
    "    time  = myopic_monkey.time\n",
    "    money = myopic_monkey.money\n",
    "    print('Action: %d, Reward: % 3.2f, Money: % 4.2f, Time: %d' % (action, reward, money, time))\n",
    "    \n"
   ]
  },
  {
   "cell_type": "code",
   "execution_count": null,
   "metadata": {
    "collapsed": true
   },
   "outputs": [],
   "source": []
  },
  {
   "cell_type": "code",
   "execution_count": null,
   "metadata": {
    "collapsed": true
   },
   "outputs": [],
   "source": []
  }
 ],
 "metadata": {
  "kernelspec": {
   "display_name": "Python 3",
   "language": "python",
   "name": "python3"
  },
  "language_info": {
   "codemirror_mode": {
    "name": "ipython",
    "version": 3
   },
   "file_extension": ".py",
   "mimetype": "text/x-python",
   "name": "python",
   "nbconvert_exporter": "python",
   "pygments_lexer": "ipython3",
   "version": "3.5.1"
  }
 },
 "nbformat": 4,
 "nbformat_minor": 0
}
