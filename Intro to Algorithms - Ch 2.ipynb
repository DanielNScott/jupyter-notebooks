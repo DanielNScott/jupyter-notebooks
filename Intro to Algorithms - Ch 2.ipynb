{
 "cells": [
  {
   "cell_type": "markdown",
   "metadata": {},
   "source": [
    "# 2.1 Exercises #"
   ]
  },
  {
   "cell_type": "code",
   "execution_count": 1,
   "metadata": {
    "collapsed": false
   },
   "outputs": [],
   "source": [
    "# In Text definition of Insertion-Sort, translated to python\n",
    "def insertion_sort(A):\n",
    "    for j in range(1,len(A)):\n",
    "        key = A[j]\n",
    "        i = j-1\n",
    "        \n",
    "        while i >= 0 and A[i] > key:\n",
    "            A[i+1] = A[i]\n",
    "            i = i-1\n",
    "    \n",
    "        A[i+1] = key\n",
    "    return A"
   ]
  },
  {
   "cell_type": "markdown",
   "metadata": {
    "collapsed": true
   },
   "source": [
    "## Problem 2.1.1\n",
    "Illustrate the operation of Insertion-Sort on the array A = [31,41,59,26,41,58]\n",
    "\n",
    "The array goes through the following snapshots (post every loop increment):\n",
    "- [31,41,59,26,41,58]\n",
    "- [31,41,59,59,41,58], key = 26, i = 1\n",
    "- [31,41,41,59,41,58], key = 26, i = 0\n",
    "- [31,31,41,59,41,58], key = 26, i = -1\n",
    "- [26,31,41,59,41,58]\n",
    "- [26,31,41,59,59,58], key = 41, i = 2\n",
    "- [26,31,41,41,59,58]\n",
    "\n",
    "and so forth for 58 being moved down one spot."
   ]
  },
  {
   "cell_type": "markdown",
   "metadata": {
    "collapsed": false
   },
   "source": [
    "## Problem 2.1.2\n",
    "Rewrite Insertion-Sort to sort into nonincreasing rather than non-decreasing order."
   ]
  },
  {
   "cell_type": "code",
   "execution_count": 94,
   "metadata": {
    "collapsed": false
   },
   "outputs": [
    {
     "name": "stdout",
     "output_type": "stream",
     "text": [
      "The matrix A                  : [31, 41, 59, 26, 41, 58]\n",
      "insertion_sort(A)             : [26, 31, 41, 41, 58, 59]\n",
      "insertion_sort_noninc(A)      : [59, 58, 41, 41, 31, 26]\n",
      "insertion_sort_nininc_smart(A): [59, 58, 41, 41, 31, 26]\n"
     ]
    }
   ],
   "source": [
    "def insertion_sort_noninc(A):\n",
    "    for j in range(1,len(A)):\n",
    "        key = A[j]\n",
    "        i = j-1\n",
    "\n",
    "        # Change > to <\n",
    "        while i >= 0 and A[i] < key:\n",
    "            A[i+1] = A[i]\n",
    "            i = i-1\n",
    "\n",
    "        A[i+1] = key\n",
    "    return A\n",
    "        \n",
    "def insertion_sort_noninc_smart(A):\n",
    "    A = insertion_sort(A)\n",
    "    A.reverse()\n",
    "    return A\n",
    "\n",
    "# Test all of the above:\n",
    "A = [31,41,59,26,41,58]\n",
    "\n",
    "print \"The matrix A                  : \" + str(A)\n",
    "print \"insertion_sort(A)             : \" + str(insertion_sort(A))\n",
    "print \"insertion_sort_noninc(A)      : \" + str(insertion_sort_noninc(A))\n",
    "print \"insertion_sort_nininc_smart(A): \" + str(insertion_sort_noninc_smart(A))"
   ]
  },
  {
   "cell_type": "markdown",
   "metadata": {},
   "source": [
    "## Problem 2.1.3\n",
    "Consider the **searching problem**:  \n",
    "**Input:** A sequence of n numbers A = (a_1,a_2,...a_n) and a value v  \n",
    "**Output:** An index i such that v = A[i] or the special value NIL if v does not appear in A  \n",
    "Write a linear search which scans through the sequence, looking for v, and prove the algorithm is correct using a loop invariant."
   ]
  },
  {
   "cell_type": "code",
   "execution_count": 95,
   "metadata": {
    "collapsed": false
   },
   "outputs": [
    {
     "name": "stdout",
     "output_type": "stream",
     "text": [
      "linear_search(A,26): 5\n",
      "linear_search(A,37): None\n"
     ]
    }
   ],
   "source": [
    "def linear_search(A,v):\n",
    "    index = None\n",
    "    for j in range(1,len(A)):\n",
    "        if v == A[j]:\n",
    "            index = j\n",
    "            break\n",
    "    return index\n",
    "\n",
    "print 'linear_search(A,26): ' + str(linear_search(A,26))\n",
    "print 'linear_search(A,37): ' + str(linear_search(A,37))"
   ]
  },
  {
   "cell_type": "markdown",
   "metadata": {},
   "source": [
    "### Proof of Correctness:\n",
    "**Loop Invariant: **  \n",
    "At the start of each iteration, the key 'v' has not been found and index is set to 'None'  \n",
    "  \n",
    "**Initialization: **  \n",
    "Nothing to show, vacuously true prior to for loop.  \n",
    "  \n",
    "**Maintenance: **  \n",
    "A loop iteration will only start if the key has not been found. Upon iterating, either\n",
    "1. The key will not be found and index will be set to none, so the loop invariant holds for this iteration or\n",
    "2. The key is found and the loop is broken, hence maintenance is vacuously true, as there is no next iteration.  \n",
    "  \n",
    "**Termination: **  \n",
    "The loop may terminate because the key is found, hence its index will be returned, or because the key has not been found, and 'None' will be returned.\n"
   ]
  },
  {
   "cell_type": "markdown",
   "metadata": {},
   "source": [
    "## Problem 2.1.4\n",
    "Consider the problem of adding two n-bit binary integers, stored in two n-element arrays A and B. The sum of the two integers should be stored in binary form in an (n+1) element array C. State the problem formally and write pseudocode for adding the two integers.  \n",
    "  \n",
    "**Statement:**  \n"
   ]
  },
  {
   "cell_type": "code",
   "execution_count": 116,
   "metadata": {
    "collapsed": false
   },
   "outputs": [],
   "source": [
    "import numpy as np\n",
    "def add_binary_ints(A,B):\n",
    "    \n",
    "    # Make the size of A >= B\n",
    "    if len(A) < len(B):\n",
    "        tmp = A\n",
    "        A = B\n",
    "        B = tmp;\n",
    "    \n",
    "    size_diff = len(B) - len(A)\n",
    "    if size_diff > 0:\n",
    "        A = A + np.repeat([0],size_diff)\n",
    "        \n",
    "    C = np.repeat([0],len(A))\n",
    "    \n",
    "    for j in range(0,len(A)-1):\n",
    "        C[j] = C[j] + A[j] + B[j]\n",
    "        if C[j] >= 2:\n",
    "            C[j+1] = 1\n",
    "            C[j  ] = C[j]%2\n",
    "    \n",
    "    return C\n",
    "\n",
    "def to_binary(A):\n",
    "    # Some code here\n",
    "    return"
   ]
  },
  {
   "cell_type": "code",
   "execution_count": 117,
   "metadata": {
    "collapsed": false
   },
   "outputs": [
    {
     "name": "stdout",
     "output_type": "stream",
     "text": [
      "add_binary_ints([1,0,0],[0,1,0]): [1 1 0]\n",
      "add_binary_ints([1,0,0],[1,1,0]): [0 0 1]\n"
     ]
    }
   ],
   "source": [
    "print \"add_binary_ints([1,0,0],[0,1,0]): \" + str(add_binary_ints([1,0,0],[0,1,0]))\n",
    "print \"add_binary_ints([1,0,0],[1,1,0]): \" + str(add_binary_ints([1,0,0],[1,1,0]))\n"
   ]
  },
  {
   "cell_type": "markdown",
   "metadata": {
    "collapsed": true
   },
   "source": [
    "Above:\n",
    "- [1,0,0] is 2^0 = 1, and [0,1,0] is 2^1 = 2 so their addition should be 3, or [1,1,0], which it is.\n",
    "- 1 + 3 = 4 or 2^2 which is represented by [0,0,1], so calculation 2 is also correct\n"
   ]
  },
  {
   "cell_type": "markdown",
   "metadata": {},
   "source": [
    "# 2.2 Exercises #"
   ]
  },
  {
   "cell_type": "markdown",
   "metadata": {},
   "source": [
    "## Problem 2.2.1\n",
    "Express the function $n^3/1000 - 100n^2 - 100n + 3$ in terms of theta-notation\n",
    "\n",
    "$\\Theta(n^3)$"
   ]
  },
  {
   "cell_type": "markdown",
   "metadata": {},
   "source": [
    "## Problem 2.2.2\n",
    "Consider sorting n numbers stored in array A by first finding the smallest element of A and exchanging it with the element in A[1]. Then find the second smallest element and exchange it with A[2]. Continue for the first n-1 elements of A. This is called **selection sort**. \n",
    "\n",
    "1. Write out this algorithm\n",
    "2. What loop invariant does it maintain?\n",
    "3. Why does it need to run for only the first n-1 elements?\n",
    "4. Give the best and worst-case run times for selection sort in $\\Theta $ notation"
   ]
  },
  {
   "cell_type": "code",
   "execution_count": 21,
   "metadata": {
    "collapsed": false
   },
   "outputs": [
    {
     "name": "stdout",
     "output_type": "stream",
     "text": [
      "selection_sort(A): [1, 2, 3, 4]\n"
     ]
    }
   ],
   "source": [
    "def selection_sort(A):                                          #------------\n",
    "                                                                # Step count\n",
    "    # Cycle through consecutively smaller subsets               #------------\n",
    "    # in which we look for minimum value\n",
    "    for first_unsorted_ind in range(0,len(A)-2):                # n times\n",
    "        \n",
    "        # Initialize smallest and assume nothing should change\n",
    "        first_unsorted    = A[first_unsorted_ind]               # ''\n",
    "        smallest_element  = A[first_unsorted_ind]               # ''\n",
    "        smallest_index    = first_unsorted_ind                  # ''\n",
    "        \n",
    "        # For this subset, find the smallest element\n",
    "        for index in range(first_unsorted_ind,len(A)):          # (n + n-1 + n-2 +...+ 1) = n(n-1)/2 times\n",
    "            \n",
    "            if A[index] < smallest_element:                     # ''\n",
    "                smallest_element = A[index]                     # ''\n",
    "                smallest_index   = index                        # ''\n",
    "\n",
    "        # By now we've found one or not\n",
    "        A[first_unsorted_ind] = smallest_element                # n times\n",
    "        A[smallest_index]     = first_unsorted                  # n times\n",
    "    \n",
    "    return A\n",
    "\n",
    "A = [2,4,3,1]\n",
    "print 'selection_sort(A): ' + str(selection_sort(A))"
   ]
  },
  {
   "cell_type": "markdown",
   "metadata": {},
   "source": [
    "**Loop Invariant: ** This algorithm has the loop invariant that the array `A[0:first_unsorted_ind-1]` is always a sorted array of the smallest elements in `A`, or it is mepty.\n",
    "\n",
    "**Initialization: ** Prior to the first iteration of the outer for loop, the array is empty.\n",
    "\n",
    "**Maintenance: ** Suppose `A[1:n-1]` is a sorted array containing the smallest elements of `A`. The smallest element of `A[n:end]` is obtained by assuming `A[n]` is the smallest and comparing each element to it. If we encounter a smaller element, say at position `j`, that element is now considered the smallest and further comparisons take place against `A[j]` rather than `A[n]`. Once every element has been compared with the previously found smallest, we will have the smallest element of `A[n:end]`. This will be swapped with `A[n]`, so `A[1:n]` will now contain the smallest elements of `A` and be sorted. If `n` is `1` and `A` is empty, we will have obtained the smallest element and put it in position one.\n",
    "\n",
    "**Termination: ** When the loop terminates, `A[1:end-1]` are the smallest elements in the array and they are sorted. Hence the whole array is sorted."
   ]
  },
  {
   "cell_type": "markdown",
   "metadata": {},
   "source": [
    "**Run Times: **\n",
    "\n",
    "Best case and worst case are the same, because every element is compared to every other element a fixed number of times. That is, the algorithm always has the same asymptotic run-time since there is never any condition that can be avoided to avoid entry into the inner loop with, which has the higher asymptotic run-time.\n",
    "\n",
    "Hence, best and worst case in theta notation are $\\Theta(n^2)$"
   ]
  },
  {
   "cell_type": "markdown",
   "metadata": {},
   "source": [
    "## Problem 2.2.3 ##\n",
    "\n",
    "Consider linear search again (Ex 2.1.3). How many elements of the input need to be checked on average, assuming that the element being searched for is equally likely to be any element in the array? How about the worst case? What are the average-case and worst-case running times of linear search?"
   ]
  },
  {
   "cell_type": "code",
   "execution_count": 2,
   "metadata": {
    "collapsed": false
   },
   "outputs": [
    {
     "name": "stdout",
     "output_type": "stream",
     "text": [
      "linear_search(A,26): 4\n",
      "linear_search(A,37): 1\n"
     ]
    }
   ],
   "source": [
    "# From above:\n",
    "def linear_search(A,v):\n",
    "    index = None\n",
    "    for j in range(1,len(A)):\n",
    "        if v == A[j]:\n",
    "            index = j\n",
    "            break\n",
    "    return index\n",
    "\n",
    "A = [1,37,3,4,26]\n",
    "print 'linear_search(A,26): ' + str(linear_search(A,26))\n",
    "print 'linear_search(A,37): ' + str(linear_search(A,37))"
   ]
  },
  {
   "cell_type": "markdown",
   "metadata": {},
   "source": [
    "- On average, n/2 elements will need to be checked\n",
    "- In the worst case, the element to be found is the last item and all n elements will be checked.\n",
    "- Hence, average case and worst case run times are both $\\Theta(n)$"
   ]
  },
  {
   "cell_type": "markdown",
   "metadata": {},
   "source": [
    "## Problem 2.2.4 ##\n",
    "How can we modify almost any algorithm to have good best case run time?"
   ]
  },
  {
   "cell_type": "markdown",
   "metadata": {},
   "source": [
    "We can terminate the algorithm as soon as it has accomplished it's goal. For example, if the first candidate solution to a problem is an acceptable one, we can return it immediately."
   ]
  },
  {
   "cell_type": "markdown",
   "metadata": {
    "collapsed": true
   },
   "source": [
    "# 2.3 Exercises #"
   ]
  },
  {
   "cell_type": "markdown",
   "metadata": {},
   "source": [
    "## Problem 2.3.1 ##\n",
    "Using figure 2.4 as a model, illustrate the operation of merge sort on the array A = [3,41,52,26,38,57,9,49]\n",
    "(Too easy, not going to do it)"
   ]
  },
  {
   "cell_type": "markdown",
   "metadata": {},
   "source": [
    "## Problem 2.3.2 ##\n",
    "Rewrite the 'merge' proceedure so that it does not use sentinels, instead stopping once either array L or R has had all it's elements copied back to A, and then coppying the remainder of the other array back to A."
   ]
  },
  {
   "cell_type": "code",
   "execution_count": 1,
   "metadata": {
    "collapsed": false
   },
   "outputs": [
    {
     "name": "stdout",
     "output_type": "stream",
     "text": [
      "[1, 2, 3, 4]\n"
     ]
    }
   ],
   "source": [
    "import math as math\n",
    "#import pdb\n",
    "#pdb.set_trace()\n",
    "\n",
    "def merge_sort(A,p,r):\n",
    "    #print 'merge_sort inputs: ' + str(A) + ' ' + str(p) + ' ' + str(r)\n",
    "    \n",
    "    if p < r:\n",
    "        q = int(math.floor((p + r)/2))\n",
    "\n",
    "        merge_sort(A,p    ,q)\n",
    "        merge_sort(A,q + 1,r)\n",
    "        \n",
    "        merge(A,p,q,r)\n",
    "        \n",
    "    return A\n",
    "\n",
    "# Merge subroutine for merge sort written without sentinels,\n",
    "# and coded in more self explanatory style\n",
    "def merge(A,low_ind,split_ind,high_ind):\n",
    "    #print 'merge inputs: ' + str(A) + ' ' + str(low_ind) + ' ' + str(split_ind) + ' ' + str(high_ind)\n",
    "    \n",
    "    len_left_array  = split_ind - low_ind + 1\n",
    "    len_right_array = high_ind  - split_ind\n",
    "    \n",
    "    left_array  = []\n",
    "    right_array = []\n",
    "        \n",
    "    for i in range(0,len_left_array):\n",
    "        left_array.append(A[low_ind + i])\n",
    "    \n",
    "    for i in range(0,len_right_array):\n",
    "        right_array.append(A[split_ind + i + 1])\n",
    "    \n",
    "    k = low_ind\n",
    "    while len(left_array) > 0 and len(right_array) > 0:\n",
    "    \n",
    "        if left_array[0] <= right_array[0]:\n",
    "            A[k] = left_array.pop(0)\n",
    "        else:\n",
    "            A[k] = right_array.pop(0)\n",
    "                        \n",
    "        k = k + 1\n",
    "        \n",
    "    if len(left_array) == 0:\n",
    "        A[k:high_ind + 1] = right_array\n",
    "    else:\n",
    "        A[k:high_ind + 1] = left_array\n",
    "        \n",
    "    #print 'merge output: ' + str(A)\n",
    "    return A\n",
    "\n",
    "A = [4,2,1,3]\n",
    "print merge_sort(A,0,len(A)-1)"
   ]
  },
  {
   "cell_type": "markdown",
   "metadata": {
    "collapsed": false
   },
   "source": [
    "## Problem 2.3.3 ##\n",
    "Use mathematical induction to show that when n is an exact power of 2, the solution of the recurrence\n",
    "\n",
    "$ T(n) =\n",
    "   \\begin{cases} \n",
    "      2 & \\text{if } n = 2 \\\\\n",
    "      2T(\\frac{n}{2}) + n & \\text{if } n = 2^k \\text{ for } k > 1 \n",
    "   \\end{cases}\n",
    "$\n",
    "\n",
    "is $T(n) = nlg(n)$\n",
    "\n",
    "**Base case:**  \n",
    "By definition $T(2) = 2 = 2 \\cdot lg(2)$ where we're using log base 2, and $T(2^2) = 2 \\cdot T(2) + 4 = 8 = 4 \\cdot 2 = 4 \\cdot lg(2)$\n",
    "\n",
    "**Inductive Hypothesis:**  \n",
    "If the recurrence holds as stated for k, it holds for k+1.\n",
    "\n",
    "**Proof:**  \n",
    "$T(2^{k+1}) = 2T(\\frac{2^{k + 1}}{2}) + 2^{k+1}$  \n",
    "$T(2^{k+1}) = 2T(2^k) + 2^{k+1} $  \n",
    "$T(2^{k+1}) = 2 \\cdot (2^k \\cdot lg(2^k)) + 2^{k+1}$  \n",
    "$T(2^{k+1}) = 2^{k+1} \\cdot k + 2^{k+1}$  \n",
    "$T(2^{k+1}) = 2^{k+1} \\cdot (k+1)$  \n",
    "  \n",
    "hence:  \n",
    "$T(n) = n \\cdot lg(n) \\text{ since } n = 2^{k+1}$ "
   ]
  },
  {
   "cell_type": "markdown",
   "metadata": {
    "collapsed": false
   },
   "source": [
    "## Problem 2.3.4 ##\n",
    "We can express insertion sort as a recursive procedure as follows. In order to sort `A[1:n]` we recursively sort `A[1:n-1]` and then insert `A[n]` into the sorted array. Write a recurrence for the running time of this recursive version of insertion sort/"
   ]
  },
  {
   "cell_type": "code",
   "execution_count": 2,
   "metadata": {
    "collapsed": false
   },
   "outputs": [
    {
     "ename": "SyntaxError",
     "evalue": "invalid syntax (<ipython-input-2-39838c5ce13d>, line 2)",
     "output_type": "error",
     "traceback": [
      "\u001b[1;36m  File \u001b[1;32m\"<ipython-input-2-39838c5ce13d>\"\u001b[1;36m, line \u001b[1;32m2\u001b[0m\n\u001b[1;33m    print 'input:  ' + str(A)                     # Step count\u001b[0m\n\u001b[1;37m                   ^\u001b[0m\n\u001b[1;31mSyntaxError\u001b[0m\u001b[1;31m:\u001b[0m invalid syntax\n"
     ]
    }
   ],
   "source": [
    "def recursive_insertion_sort(A):                  #-----------\n",
    "    print 'input:  ' + str(A)                     # Step count\n",
    "                                                  #-----------\n",
    "    n = len(A)-1                                  # n-2 (by recursion to depth 2)\n",
    "    if n > 1:                                     # ''\n",
    "        A[0:n] = recursive_insertion_sort(A[0:n]) # n-3 (at every depth but lowest)\n",
    "\n",
    "    value_to_insert = A[n]                        # n-2 (by recursion to depth 2)\n",
    "    \n",
    "    i = 0                                         # ''\n",
    "    while i < n and A[i] <= value_to_insert:      # d times for each depth d in (1,n) i.e. n + (n-1) .. + .. (1)\n",
    "        i = i + 1                                 # ''\n",
    "       \n",
    "    insert_val = A[n]                             # n times\n",
    "    A[i+1:] = A[i:-1]                             # ''\n",
    "    A[i] = insert_val                             # ''\n",
    "    \n",
    "    print 'output: ' + str(A)\n",
    "    return A                                      # ''\n",
    "\n",
    "A = [2,1,5,6,3]\n",
    "print 'recursive_insertion_sort(A): ' + str(recursive_insertion_sort(A))"
   ]
  },
  {
   "cell_type": "markdown",
   "metadata": {
    "collapsed": true
   },
   "source": [
    "**Notes:**\n",
    " - The recurrence goes through n-1 levels, the top level and then n-2 more.\n",
    " - At each level on the way up it runs through n (worst case) or n/2 (average) instructions to insert the value\n",
    "\n",
    "Recurrence relation:  \n",
    "$ T(n) =\n",
    "   \\begin{cases} \n",
    "      c & \\text{if } n \\le 2 \\\\\n",
    "      T(n-1) + n \\cdot c & \\text{if } n > 2\n",
    "   \\end{cases}\n",
    "$"
   ]
  },
  {
   "cell_type": "markdown",
   "metadata": {
    "collapsed": true
   },
   "source": [
    "## Problem 2.3.5 ##\n",
    "Write a binary search algorithm, and argue that worst-case running time is $\\Theta(n\\cdot lgn)$."
   ]
  },
  {
   "cell_type": "code",
   "execution_count": 21,
   "metadata": {
    "collapsed": false
   },
   "outputs": [
    {
     "name": "stdout",
     "output_type": "stream",
     "text": [
      "binary_search(A, 1): 0\n",
      "binary_search(A,27): 4\n",
      "binary_search(A,12): 3\n",
      "binary_search(A,44): -1\n",
      " \n",
      "recursive_binary_search(A, 1): 0\n",
      "recursive_binary_search(A,27): 4\n",
      "recursive_binary_search(A,12): 3\n",
      "recursive_binary_search(A,44): -1\n"
     ]
    }
   ],
   "source": [
    "import math as math\n",
    "\n",
    "def binary_search(A,key):\n",
    "    range_min = 0\n",
    "    range_max = len(A)\n",
    "    \n",
    "    while range_min < range_max:\n",
    "        difference = range_max - range_min\n",
    "        pivot = range_min + math.floor((range_max - range_min)/2)\n",
    "        \n",
    "        if key == A[pivot]:\n",
    "            return pivot\n",
    "        \n",
    "        if key < A[pivot]:\n",
    "            range_max = pivot\n",
    "        else:\n",
    "            range_min = pivot + 1\n",
    "            \n",
    "    return -1\n",
    "\n",
    "def recursive_binary_search(A,key):\n",
    "    '''recursive_binary_search(A,key) returns the index in \"A\" containing the value \"key\", or -1 if not found.'''\n",
    "    \n",
    "    pivot = math.floor(len(A)/2)\n",
    "    \n",
    "    if key == A[pivot]:\n",
    "        return pivot\n",
    "    \n",
    "    if pivot == 0:\n",
    "        return -1\n",
    "    \n",
    "    if key < A[pivot]:\n",
    "        index = recursive_binary_search(A[0:pivot],key)\n",
    "    else:\n",
    "        index = recursive_binary_search(A[pivot:],key)\n",
    "        \n",
    "        if index == -1:\n",
    "            return -1\n",
    "        \n",
    "        index = pivot + index\n",
    "        \n",
    "    return index\n",
    "\n",
    "A = [1,4,5,12,27,33]\n",
    "\n",
    "print ('binary_search(A, 1): ' + str(binary_search(A, 1)))\n",
    "print ('binary_search(A,27): ' + str(binary_search(A,27)))\n",
    "print ('binary_search(A,12): ' + str(binary_search(A,12)))\n",
    "print ('binary_search(A,44): ' + str(binary_search(A,44)))\n",
    "print (' ')\n",
    "print ('recursive_binary_search(A, 1): ' + str(recursive_binary_search(A, 1)))\n",
    "print ('recursive_binary_search(A,27): ' + str(recursive_binary_search(A,27)))\n",
    "print ('recursive_binary_search(A,12): ' + str(recursive_binary_search(A,12)))\n",
    "print ('recursive_binary_search(A,44): ' + str(recursive_binary_search(A,44)))\n"
   ]
  },
  {
   "cell_type": "markdown",
   "metadata": {},
   "source": [
    "**Runtime:**  \n",
    "This has run-time $n \\cdot lg(n)$ because it recursively splits the problem into pairs of subproblems with size n/2 and ... (not sure where, or if the '+ n' factor per the merge sort recursion comes in though...)"
   ]
  },
  {
   "cell_type": "markdown",
   "metadata": {},
   "source": [
    "## Problem 2.3.6 ##\n",
    "Can we use binary search within insertion sort (rather than linear search) to improve it's worst-case runtime to $\\Theta n \\cdot lg(n)$?  \n",
    "  \n",
    "Seems like yes, because instead of having a run time defined by n + (n-1) + (n-2) +...+ 1, the result of n while loops of incrementally smaller sizes, the run time will be defined by lg(n) + lg(n-1) + lg(n-2) +...+ lg(2), which appears to me to mean $\\Theta((n-1) \\cdot lg(n))$ running time, which is the same. "
   ]
  },
  {
   "cell_type": "markdown",
   "metadata": {},
   "source": [
    "## Problem 2.3.7 ##\n",
    "Describe a $\\Theta(nlg(n))$ algorithm that, given a set S of n integers and another integer x, determines whether or not there exists two elements in S whose sum is exactly x."
   ]
  },
  {
   "cell_type": "code",
   "execution_count": null,
   "metadata": {
    "collapsed": true
   },
   "outputs": [],
   "source": []
  }
 ],
 "metadata": {
  "kernelspec": {
   "display_name": "Python 3",
   "language": "python",
   "name": "python3"
  },
  "language_info": {
   "codemirror_mode": {
    "name": "ipython",
    "version": 3
   },
   "file_extension": ".py",
   "mimetype": "text/x-python",
   "name": "python",
   "nbconvert_exporter": "python",
   "pygments_lexer": "ipython3",
   "version": "3.5.1"
  }
 },
 "nbformat": 4,
 "nbformat_minor": 0
}
